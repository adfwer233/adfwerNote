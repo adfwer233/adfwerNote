{
 "cells": [
  {
   "cell_type": "code",
   "execution_count": 14,
   "metadata": {},
   "outputs": [
    {
     "name": "stdout",
     "output_type": "stream",
     "text": [
      "[(1, 4), (2, 5), (3, 6)]\n",
      "(1, 4) (2, 5) (3, 6)\n",
      "[(1, 6), (2, 7)]\n",
      "[1, 2, 3] [4, 5, 6]\n"
     ]
    }
   ],
   "source": [
    "x = [1, 2, 3]\n",
    "y = [4, 5, 6]\n",
    "z = [6, 7]\n",
    "tmp = zip(x, y)\n",
    "res = list(tmp)\n",
    "print(res)\n",
    "print(*res)\n",
    "a, b = map(list, zip(*res))\n",
    "print(a, b)\n",
    "print(list(zip(x, z)))"
   ]
  }
 ],
 "metadata": {
  "interpreter": {
   "hash": "fcb01193079ea24498e43d3d58a7f4dbf8b67d46a305afcc270e886fc50daf66"
  },
  "kernelspec": {
   "display_name": "Python 3.10.4 ('myenv')",
   "language": "python",
   "name": "python3"
  },
  "language_info": {
   "codemirror_mode": {
    "name": "ipython",
    "version": 3
   },
   "file_extension": ".py",
   "mimetype": "text/x-python",
   "name": "python",
   "nbconvert_exporter": "python",
   "pygments_lexer": "ipython3",
   "version": "3.10.4"
  },
  "orig_nbformat": 4
 },
 "nbformat": 4,
 "nbformat_minor": 2
}
